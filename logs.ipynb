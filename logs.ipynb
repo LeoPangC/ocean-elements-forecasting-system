{
 "cells": [
  {
   "cell_type": "markdown",
   "source": [
    "流温盐：\n",
    "    r1:[15: 18.5][110.5: 114]\n",
    "    r2:[18: 21.5][111.5: 115]\n",
    "风浪：\n",
    "    r1:[18.5: 22][116.5: 120]\n",
    "    r2:[19.5: 23][121.5: 125]"
   ],
   "metadata": {
    "collapsed": false
   }
  },
  {
   "cell_type": "markdown",
   "source": [
    "## 2022.12.15"
   ],
   "metadata": {
    "collapsed": false
   }
  },
  {
   "cell_type": "markdown",
   "source": [
    "已完成：\n",
    "1.海流的图像合并\n",
    "2.已加入目前存在的sst和sss\n",
    "3.其他要素图像清晰度增加\n",
    "    class_roll_prediction.py\n",
    "    对153行数字进行调整，同理还有 utils.py 14行\n",
    "\n",
    "提醒：\n",
    "cartopy模块资源无法下载问题\n",
    "手动下载资源，放到指定路径中\n",
    "执行 cartopy.config 获取路径"
   ],
   "metadata": {
    "collapsed": false
   }
  },
  {
   "cell_type": "markdown",
   "source": [
    "待完成：\n",
    "1.sst未进行测试，缺少:\n",
    "    sst新训练模型\n",
    "2.实机测试"
   ],
   "metadata": {
    "collapsed": false
   }
  },
  {
   "cell_type": "markdown",
   "source": [
    "## 2022.12.16"
   ],
   "metadata": {
    "collapsed": false
   }
  },
  {
   "cell_type": "markdown",
   "source": [
    "已完成：\n",
    "1.风的uv合成"
   ],
   "metadata": {
    "collapsed": false
   }
  },
  {
   "cell_type": "markdown",
   "source": [
    "## 2022.5.15"
   ],
   "metadata": {
    "collapsed": false
   }
  },
  {
   "cell_type": "markdown",
   "source": [
    "1.class_combat_data.py 增加需求：生成asc文件\n",
    "2.main.py 修改了传参逻辑，变得更合理了"
   ],
   "metadata": {
    "collapsed": false
   }
  },
  {
   "cell_type": "markdown",
   "source": [
    "## 2023.6.6"
   ],
   "metadata": {
    "collapsed": false
   }
  },
  {
   "cell_type": "markdown",
   "source": [
    "1.将r1的范围修改为[2-26][99-123]\n",
    "2.替换r1模型\n",
    "3.切割范围是"
   ],
   "metadata": {
    "collapsed": false
   }
  },
  {
   "cell_type": "markdown",
   "source": [
    "### 2023.7.8"
   ],
   "metadata": {
    "collapsed": false
   }
  },
  {
   "cell_type": "markdown",
   "source": [
    "1.data下增加display和forcast存储asc文件\n",
    "2.data下的中间数据不要了，直接内存读取\n",
    "3.增加一个日期的参数，判断这一天的数据有没有asc，没有的话转化数据，作为预测日期，需要用前一天的数据\n",
    "4.写一个独立脚本，转化全部nc数据，注意12点开始的数据格式\n",
    "5.前端显示时间只能从晚8点开始"
   ],
   "metadata": {
    "collapsed": false
   }
  },
  {
   "cell_type": "markdown",
   "source": [
    "### 7.10 修改"
   ],
   "metadata": {
    "collapsed": false
   }
  },
  {
   "cell_type": "markdown",
   "source": [
    "1.data\n",
    "  —— diaplay\n",
    "  —— forcasting\n",
    "  —— raw_data\n",
    "     —— 20210618\n",
    "        —— SAL\n",
    "        —— TT\n",
    "        —— WindUc"
   ],
   "metadata": {
    "collapsed": false
   }
  },
  {
   "cell_type": "markdown",
   "source": [
    "### 7.26 增加订正测试数据"
   ],
   "metadata": {
    "collapsed": false
   }
  },
  {
   "cell_type": "markdown",
   "source": [
    "210308\n",
    "210309\n",
    "210529\n",
    "210530\n",
    "210817\n",
    "210818\n",
    "211108\n",
    "211109\n",
    "211221\n",
    "220715\n",
    "220716"
   ],
   "metadata": {
    "collapsed": false
   }
  },
  {
   "cell_type": "markdown",
   "source": [
    "温度：用3小时模型预测当作24小时模型进行测试，当天12点的era5数据作为输入，现存的模型\n",
    "浪：使用24小时模型进行测试，15天\n",
    "风：就是滚动40次不变\n",
    "盐：不变"
   ],
   "metadata": {
    "collapsed": false
   }
  },
  {
   "cell_type": "markdown",
   "source": [
    "### 2023.8.5"
   ],
   "metadata": {
    "collapsed": false
   }
  },
  {
   "cell_type": "markdown",
   "source": [
    "偏差订正修改，rmse提升度修改\n",
    "get_elements.py\n",
    "utils.py\n",
    "class_combat_data.py\n",
    "三维温盐场改了mask\n",
    "浪修改了rmse和相关系数方程"
   ],
   "metadata": {
    "collapsed": false
   }
  }
 ],
 "metadata": {
  "kernelspec": {
   "display_name": "Python 3",
   "language": "python",
   "name": "python3"
  },
  "language_info": {
   "codemirror_mode": {
    "name": "ipython",
    "version": 2
   },
   "file_extension": ".py",
   "mimetype": "text/x-python",
   "name": "python",
   "nbconvert_exporter": "python",
   "pygments_lexer": "ipython2",
   "version": "2.7.6"
  }
 },
 "nbformat": 4,
 "nbformat_minor": 0
}

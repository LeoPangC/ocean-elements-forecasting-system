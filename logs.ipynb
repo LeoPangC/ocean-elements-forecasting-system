{
 "cells": [
  {
   "cell_type": "markdown",
   "source": [
    "流温盐：\n",
    "    r1:[15: 18.5][110.5: 114]\n",
    "    r2:[18: 21.5][111.5: 115]\n",
    "风浪：\n",
    "    r1:[18.5: 22][116.5: 120]\n",
    "    r2:[19.5: 23][121.5: 125]"
   ],
   "metadata": {
    "collapsed": false
   }
  },
  {
   "cell_type": "markdown",
   "source": [
    "## 2022.12.15"
   ],
   "metadata": {
    "collapsed": false
   }
  },
  {
   "cell_type": "markdown",
   "source": [
    "已完成：\n",
    "1.海流的图像合并\n",
    "2.已加入目前存在的sst和sss\n",
    "3.其他要素图像清晰度增加\n",
    "    class_roll_prediction.py\n",
    "    对153行数字进行调整，同理还有 utils.py 14行\n",
    "\n",
    "提醒：\n",
    "cartopy模块资源无法下载问题\n",
    "手动下载资源，放到指定路径中\n",
    "执行 cartopy.config 获取路径"
   ],
   "metadata": {
    "collapsed": false
   }
  },
  {
   "cell_type": "markdown",
   "source": [
    "待完成：\n",
    "1.sst未进行测试，缺少:\n",
    "    sst新训练模型\n",
    "2.实机测试"
   ],
   "metadata": {
    "collapsed": false
   }
  },
  {
   "cell_type": "markdown",
   "source": [
    "## 2022.12.16"
   ],
   "metadata": {
    "collapsed": false
   }
  },
  {
   "cell_type": "markdown",
   "source": [
    "已完成：\n",
    "1.风的uv合成"
   ],
   "metadata": {
    "collapsed": false
   }
  },
  {
   "cell_type": "markdown",
   "source": [
    "## 2022.5.15"
   ],
   "metadata": {
    "collapsed": false
   }
  },
  {
   "cell_type": "markdown",
   "source": [
    "1.class_combat_data.py 增加需求：生成asc文件\n",
    "2.execution.py 修改了传参逻辑，变得更合理了"
   ],
   "metadata": {
    "collapsed": false
   }
  }
 ],
 "metadata": {
  "kernelspec": {
   "display_name": "Python 3",
   "language": "python",
   "name": "python3"
  },
  "language_info": {
   "codemirror_mode": {
    "name": "ipython",
    "version": 2
   },
   "file_extension": ".py",
   "mimetype": "text/x-python",
   "name": "python",
   "nbconvert_exporter": "python",
   "pygments_lexer": "ipython2",
   "version": "2.7.6"
  }
 },
 "nbformat": 4,
 "nbformat_minor": 0
}
